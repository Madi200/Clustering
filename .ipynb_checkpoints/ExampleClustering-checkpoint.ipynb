{
 "cells": [
  {
   "cell_type": "code",
   "execution_count": 1,
   "id": "d12c79e1",
   "metadata": {},
   "outputs": [],
   "source": [
    "import pandas as pd\n",
    "import matplotlib.pyplot as plt\n",
    "import seaborn as sns\n",
    "import numpy as np\n",
    "import json\n",
    "import traceback\n",
    "import logging\n",
    "from kneed import KneeLocator, DataGenerator as dg\n",
    "from kmeans import Kmeans\n",
    "from hierarchial import Hierarchical"
   ]
  },
  {
   "cell_type": "code",
   "execution_count": 2,
   "id": "67a4b8b4",
   "metadata": {},
   "outputs": [
    {
     "data": {
      "application/vnd.jupyter.widget-view+json": {
       "model_id": "64d134c007a94d61858572a49425a397",
       "version_major": 2,
       "version_minor": 0
      },
      "text/plain": [
       "interactive(children=(Dropdown(description='Clustering', options=('Kmeans', 'Hierarchial'), value='Kmeans'), O…"
      ]
     },
     "metadata": {},
     "output_type": "display_data"
    },
    {
     "data": {
      "application/vnd.jupyter.widget-view+json": {
       "model_id": "c040e551fc6c4d489fcb193428b68c2c",
       "version_major": 2,
       "version_minor": 0
      },
      "text/plain": [
       "FloatText(value=4.0, description='No of K:')"
      ]
     },
     "metadata": {},
     "output_type": "display_data"
    },
    {
     "data": {
      "application/vnd.jupyter.widget-view+json": {
       "model_id": "d69e9ab7b3fa4d7090b84b5b687b8fe5",
       "version_major": 2,
       "version_minor": 0
      },
      "text/plain": [
       "interactive(children=(Dropdown(description='Scaling', options=('z-scaling', 'Normalize'), value='z-scaling'), …"
      ]
     },
     "metadata": {},
     "output_type": "display_data"
    },
    {
     "data": {
      "application/vnd.jupyter.widget-view+json": {
       "model_id": "1f88015f18bf435099ec734989c8077b",
       "version_major": 2,
       "version_minor": 0
      },
      "text/plain": [
       "FloatText(value=3.0, description='HoldingCost:')"
      ]
     },
     "metadata": {},
     "output_type": "display_data"
    },
    {
     "data": {
      "application/vnd.jupyter.widget-view+json": {
       "model_id": "d606bfc2630a46ed908060bbd1e6de9e",
       "version_major": 2,
       "version_minor": 0
      },
      "text/plain": [
       "FloatText(value=400.0, description='FixOrderCost:')"
      ]
     },
     "metadata": {},
     "output_type": "display_data"
    },
    {
     "data": {
      "application/vnd.jupyter.widget-view+json": {
       "model_id": "24a24de90fdb47daa5cb488b0075a304",
       "version_major": 2,
       "version_minor": 0
      },
      "text/plain": [
       "FloatText(value=112.0, description='Opening Inv:')"
      ]
     },
     "metadata": {},
     "output_type": "display_data"
    },
    {
     "data": {
      "application/vnd.jupyter.widget-view+json": {
       "model_id": "6a0ba79da16341d8b2b5749ebe21a2c0",
       "version_major": 2,
       "version_minor": 0
      },
      "text/plain": [
       "Button(description='Click me', style=ButtonStyle(), tooltip='Click me')"
      ]
     },
     "metadata": {},
     "output_type": "display_data"
    }
   ],
   "source": [
    "from ipywidgets import interact, Dropdown, FloatText, Button\n",
    "\n",
    "\n",
    "clutering_type = Dropdown(options = ['Kmeans','Hierarchial'], description='Clustering')\n",
    "\n",
    "data_scaling = Dropdown(options = ['z-scaling','Normalize'], description='Scaling')\n",
    "P=None\n",
    "\n",
    "def update_cityW_options(*args): # *args represent zero (case here) or more arguments.\n",
    "    print(productsW.value)\n",
    "\n",
    "\n",
    "@interact(product = clutering_type)\n",
    "def print_clustering_type(product):\n",
    "    print(product)\n",
    "    \n",
    "no_of_k = FloatText(\n",
    " value=4.0,\n",
    " description='No of K:'\n",
    " )\n",
    "display(no_of_k)\n",
    "\n",
    "\n",
    "@interact(scaling = data_scaling)\n",
    "def print_scaling(scaling):\n",
    "    print(scaling)\n",
    "\n",
    "\n",
    "button = Button(\n",
    "    description='Click me',\n",
    "    disabled=False,\n",
    "    button_style='', # 'success', 'info', 'warning', 'danger' or ''\n",
    "    tooltip='Click me',\n",
    "    #icon='check' # (FontAwesome names without the `fa-` prefix)\n",
    ")\n",
    "display(button)\n",
    "\n",
    "def on_button_clicked(b):\n",
    "    print(\"BB\")"
   ]
  },
  {
   "cell_type": "code",
   "execution_count": null,
   "id": "c556ed62",
   "metadata": {},
   "outputs": [],
   "source": [
    "class DataDf:\n",
    "    \"\"\"Data class.\n",
    "    The purpose of this class is to use it as a component of any clustering class, instead of \n",
    "    reloading data  as a seperate dataframe into the memory.\n",
    "    \n",
    "    Parameters\n",
    "    ----------\n",
    "    df : dataframe\n",
    "        The dataframe contains the data with any type of attributes.\n",
    "           \n",
    "    \"\"\"\n",
    "\n",
    "    def __init__(self):\n",
    "        \"\"\"Attributes are defined here.\"\"\"\n",
    "        self.df = None\n",
    "        \n",
    "    def read_data(self, file_path):\n",
    "        result ={}\n",
    "        try:\n",
    "            self.df = pd.read_csv(file_path)\n",
    "            result['msg'] = 'File Read!'\n",
    "            result['flag'] = True\n",
    "        except Exception as e:\n",
    "            result['msg'] =  f'{e.__class__} occurred!'\n",
    "            result['flag'] = False\n",
    "        return result\n",
    "    "
   ]
  },
  {
   "cell_type": "code",
   "execution_count": null,
   "id": "aaa000ce",
   "metadata": {},
   "outputs": [],
   "source": [
    "FILE_PATH = 'data/Iris_2.csv'\n",
    "dataObj = DataDf()\n",
    "rslt = dataObj.read_data(FILE_PATH)"
   ]
  },
  {
   "cell_type": "markdown",
   "id": "6d4ff8d6",
   "metadata": {},
   "source": [
    "## K-means"
   ]
  },
  {
   "cell_type": "code",
   "execution_count": null,
   "id": "88f6c263",
   "metadata": {},
   "outputs": [],
   "source": [
    "metrics_variables = dataObj.df.columns.to_list()[1:5]\n",
    "print(metrics_variables)\n",
    "cluster_by = dataObj.df.columns.to_list()[0]\n",
    "data_scaling = 'z-scaling'\n",
    "no_of_clusters = None\n",
    "max_iterations = 50\n",
    "metric = None\n",
    "\n",
    "result = None\n",
    "kmeansObj = None\n",
    "if rslt['flag']:\n",
    "    kmeansObj = Kmeans(dataObj,cluster_by,metrics_variables)\n",
    "    result = kmeansObj.perform_clustering(data_scaling,k=no_of_clusters)\n",
    "result"
   ]
  },
  {
   "cell_type": "code",
   "execution_count": null,
   "id": "9f5b11e2",
   "metadata": {},
   "outputs": [],
   "source": [
    "kl = KneeLocator(result['data']['elbow_chart']['x'], result['data']['elbow_chart']['y'], curve=\"convex\", direction=\"decreasing\")\n",
    "kl.knee"
   ]
  },
  {
   "cell_type": "code",
   "execution_count": null,
   "id": "546f106d",
   "metadata": {},
   "outputs": [],
   "source": [
    "kl.plot_knee()"
   ]
  },
  {
   "cell_type": "markdown",
   "id": "28d2c3c0",
   "metadata": {},
   "source": [
    "## Hierarchial Clustering"
   ]
  },
  {
   "cell_type": "code",
   "execution_count": null,
   "id": "a4d3db88",
   "metadata": {},
   "outputs": [],
   "source": [
    "FILE_PATH = 'data/Iris_2.csv'\n",
    "dataObj2 = DataDf()\n",
    "rslt = dataObj2.read_data(FILE_PATH)"
   ]
  },
  {
   "cell_type": "code",
   "execution_count": null,
   "id": "77494c7e",
   "metadata": {},
   "outputs": [],
   "source": [
    "metrics_variables = dataObj2.df.columns.to_list()[1:5]\n",
    "print(metrics_variables)\n",
    "cluster_by = dataObj2.df.columns.to_list()[0]\n",
    "data_scaling = 'z-scaling'\n",
    "no_of_clusters = 3\n",
    "max_iterations = 5\n",
    "metric = None\n",
    "categorical_colms = None\n",
    "print(categorical_colms)\n",
    "\n",
    "# ------------------------------------------------------------\n",
    "# Hierarchical Obj initializatoin\n",
    "hClusteringObj = Hierarchical(dataObj2,cluster_by, metrics_variables, categorical_colms)\n",
    "result = hClusteringObj.perform_clustering(data_scaling)"
   ]
  },
  {
   "cell_type": "code",
   "execution_count": null,
   "id": "2938347c",
   "metadata": {},
   "outputs": [],
   "source": [
    "dataObj.df"
   ]
  },
  {
   "cell_type": "code",
   "execution_count": null,
   "id": "cc000a32",
   "metadata": {},
   "outputs": [],
   "source": [
    "result"
   ]
  }
 ],
 "metadata": {
  "kernelspec": {
   "display_name": "Python 3 (ipykernel)",
   "language": "python",
   "name": "python3"
  },
  "language_info": {
   "codemirror_mode": {
    "name": "ipython",
    "version": 3
   },
   "file_extension": ".py",
   "mimetype": "text/x-python",
   "name": "python",
   "nbconvert_exporter": "python",
   "pygments_lexer": "ipython3",
   "version": "3.8.10"
  }
 },
 "nbformat": 4,
 "nbformat_minor": 5
}
