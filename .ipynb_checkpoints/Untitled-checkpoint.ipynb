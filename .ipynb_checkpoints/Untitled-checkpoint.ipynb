{
 "cells": [
  {
   "cell_type": "code",
   "execution_count": 1,
   "id": "f1f86be7",
   "metadata": {},
   "outputs": [],
   "source": [
    "import matplotlib.pyplot as plt\n",
    "import numpy as np\n",
    "from pandas import DataFrame\n",
    "import pandas as pd\n",
    "from scipy.optimize import minimize\n",
    "import math "
   ]
  },
  {
   "cell_type": "code",
   "execution_count": 2,
   "id": "d21fb03b",
   "metadata": {},
   "outputs": [
    {
     "name": "stdout",
     "output_type": "stream",
     "text": [
      "(83481, 8)\n"
     ]
    },
    {
     "data": {
      "text/html": [
       "<div>\n",
       "<style scoped>\n",
       "    .dataframe tbody tr th:only-of-type {\n",
       "        vertical-align: middle;\n",
       "    }\n",
       "\n",
       "    .dataframe tbody tr th {\n",
       "        vertical-align: top;\n",
       "    }\n",
       "\n",
       "    .dataframe thead th {\n",
       "        text-align: right;\n",
       "    }\n",
       "</style>\n",
       "<table border=\"1\" class=\"dataframe\">\n",
       "  <thead>\n",
       "    <tr style=\"text-align: right;\">\n",
       "      <th></th>\n",
       "      <th>STORE_NO</th>\n",
       "      <th>CLASS_NAME</th>\n",
       "      <th>Qty</th>\n",
       "      <th>Gross Value</th>\n",
       "      <th>DEPARTMENT_NAME</th>\n",
       "      <th>DESCRIPTION1</th>\n",
       "      <th>Month</th>\n",
       "      <th>Date</th>\n",
       "    </tr>\n",
       "  </thead>\n",
       "  <tbody>\n",
       "    <tr>\n",
       "      <th>0</th>\n",
       "      <td>78</td>\n",
       "      <td>ARTIFICIAL</td>\n",
       "      <td>4.0</td>\n",
       "      <td>2600.00</td>\n",
       "      <td>JEWELRY IMPORTED</td>\n",
       "      <td>EARRING-1</td>\n",
       "      <td>1</td>\n",
       "      <td>2020-01-01</td>\n",
       "    </tr>\n",
       "    <tr>\n",
       "      <th>1</th>\n",
       "      <td>52</td>\n",
       "      <td>ARTIFICIAL</td>\n",
       "      <td>1.0</td>\n",
       "      <td>700.00</td>\n",
       "      <td>JEWELRY IMPORTED</td>\n",
       "      <td>EARRING-3</td>\n",
       "      <td>1</td>\n",
       "      <td>2020-01-01</td>\n",
       "    </tr>\n",
       "    <tr>\n",
       "      <th>2</th>\n",
       "      <td>382</td>\n",
       "      <td>BAG</td>\n",
       "      <td>15.0</td>\n",
       "      <td>0.15</td>\n",
       "      <td>BAG</td>\n",
       "      <td>PLASTIC LOOP BAG</td>\n",
       "      <td>1</td>\n",
       "      <td>2020-01-01</td>\n",
       "    </tr>\n",
       "    <tr>\n",
       "      <th>3</th>\n",
       "      <td>86</td>\n",
       "      <td>CASUAL</td>\n",
       "      <td>30.0</td>\n",
       "      <td>4500.00</td>\n",
       "      <td>LOOSE FABRIC</td>\n",
       "      <td>CL003</td>\n",
       "      <td>1</td>\n",
       "      <td>2020-01-01</td>\n",
       "    </tr>\n",
       "    <tr>\n",
       "      <th>4</th>\n",
       "      <td>43</td>\n",
       "      <td>CASUAL</td>\n",
       "      <td>0.5</td>\n",
       "      <td>225.00</td>\n",
       "      <td>LOOSE FABRIC</td>\n",
       "      <td>CL008</td>\n",
       "      <td>1</td>\n",
       "      <td>2020-01-01</td>\n",
       "    </tr>\n",
       "  </tbody>\n",
       "</table>\n",
       "</div>"
      ],
      "text/plain": [
       "   STORE_NO  CLASS_NAME   Qty  Gross Value   DEPARTMENT_NAME  \\\n",
       "0        78  ARTIFICIAL   4.0      2600.00  JEWELRY IMPORTED   \n",
       "1        52  ARTIFICIAL   1.0       700.00  JEWELRY IMPORTED   \n",
       "2       382         BAG  15.0         0.15               BAG   \n",
       "3        86      CASUAL  30.0      4500.00      LOOSE FABRIC   \n",
       "4        43      CASUAL   0.5       225.00      LOOSE FABRIC   \n",
       "\n",
       "       DESCRIPTION1  Month       Date  \n",
       "0         EARRING-1      1 2020-01-01  \n",
       "1         EARRING-3      1 2020-01-01  \n",
       "2  PLASTIC LOOP BAG      1 2020-01-01  \n",
       "3             CL003      1 2020-01-01  \n",
       "4             CL008      1 2020-01-01  "
      ]
     },
     "execution_count": 2,
     "metadata": {},
     "output_type": "execute_result"
    }
   ],
   "source": [
    "df = pd.read_excel('data.xlsx')\n",
    "print(df.shape)\n",
    "df.head()"
   ]
  },
  {
   "cell_type": "code",
   "execution_count": 3,
   "id": "8a0840f4",
   "metadata": {},
   "outputs": [],
   "source": [
    "# temp1 = df.groupby(by=['STORE_NO']).aggregate({'Qty':'sum'}).reset_index()\n",
    "# temp1.head()\n",
    "# temp2 = df.groupby(by=['CLASS_NAME']).aggregate({'Qty':'sum'}).reset_index()\n",
    "# temp2.head()\n",
    "# STORES = temp1[temp1.Qty>500]['STORE_NO'].unique().tolist()\n",
    "# STORES[:10]\n",
    "# CLASSES = temp2[temp2.Qty>100]['CLASS_NAME'].unique().tolist()\n",
    "# df = df[df.STORE_NO.isin(STORES)]"
   ]
  },
  {
   "cell_type": "code",
   "execution_count": 4,
   "id": "18117915",
   "metadata": {},
   "outputs": [],
   "source": [
    "products = df.DESCRIPTION1.unique().tolist()"
   ]
  },
  {
   "cell_type": "code",
   "execution_count": 5,
   "id": "7e3e1171",
   "metadata": {},
   "outputs": [],
   "source": [
    "def f(x):\n",
    "    return x"
   ]
  },
  {
   "cell_type": "code",
   "execution_count": 6,
   "id": "86395caf",
   "metadata": {},
   "outputs": [],
   "source": [
    "# The distribution factory\n",
    "def make_distribution(function,*pars):\n",
    "    def distribution():\n",
    "        return function(*pars)\n",
    "    return distribution\n",
    "\n",
    "def make_data(periods=52, \n",
    "              initial_inventory = 10, \n",
    "              demand_dist = make_distribution(np.random.normal,2,1),\n",
    "              lead_time_dist = make_distribution(np.random.triangular,1,2,3),\n",
    "              policy = {'method':'Qs', 'arguments': {'Q':3,'s':5}},\n",
    "              demand=[],\n",
    "              costs={}):\n",
    "    \"\"\" Return a Pandas dataFrame that contains the details of the inventory simulation.\n",
    "\n",
    "    Keyword arguments:\n",
    "    periods           -- numbers of periods of the simulation (default 52 weeks)\n",
    "    initial_inventory -- initial inventory for the simulation\n",
    "    demand_dist       -- distribution of the demand (default triangular min=1, mode=2, max=3) \n",
    "    lead_time_dist    -- distribution of the lead time (default triangular min=1, mode=2, max=3)\n",
    "    policy            -- dict that contains the policy specs (default = {'method':'Qs', 'arguments': {'Q':3,'s':5}})\n",
    "    \"\"\"\n",
    "\n",
    "    # Create zero-filled Dataframe\n",
    "    period_lst = np.arange(len(demand)) # index\n",
    "    header = ['initial_inv_pos', 'initial_net_inv', 'demand', 'final_inv_pos', \n",
    "              'final_net_inv', 'lost_sales', 'avg_inv', 'order', 'lead_time',\n",
    "              'fixed_ordering_cost', 'purchasing_cost','holding_cost'] # columns\n",
    "    \n",
    "    df = DataFrame(index = period_lst, columns = header).fillna(0)\n",
    "    df_test = df\n",
    "\n",
    "    # Create a list that will store each period order\n",
    "    order_list = [Order(quantity=0, lead_time=0, sent=False) for x in range(len(demand))] \n",
    "\n",
    "    # Fill DataFrame\n",
    "    TOTAL_COST =0\n",
    "    for period, d in enumerate(demand):\n",
    "        #print(period, d)\n",
    "        if period == 0:\n",
    "            df['initial_inv_pos'][period] = initial_inventory\n",
    "            df['initial_net_inv'][period] = initial_inventory\n",
    "            df['holding_cost'][period] = initial_inventory * costs['holding_cost']\n",
    "            df['purchasing_cost'][period] = initial_inventory * costs['per_unit_cost']\n",
    "            TOTAL_COST = TOTAL_COST + initial_inventory * costs['per_unit_cost']\n",
    "            TOTAL_COST = TOTAL_COST + initial_inventory * costs['holding_cost']\n",
    "        else:\n",
    "            df['initial_inv_pos'][period] = df['final_inv_pos'][period-1] + order_list[period - 1].quantity\n",
    "            df['initial_net_inv'][period] = df['final_net_inv'][period-1] + pending_order(order_list, period)\n",
    "            df['holding_cost'][period] = (df['final_net_inv'][period-1] + pending_order(order_list, period)) * costs['holding_cost']\n",
    "            TOTAL_COST = TOTAL_COST + (df['final_net_inv'][period-1] + pending_order(order_list, period)) * costs['holding_cost']\n",
    "        df['demand'][period] = int(d)\n",
    "        df['final_inv_pos'][period] = df['initial_inv_pos'][period] - df['demand'][period]\n",
    "        order_list[period].quantity, order_list[period].lead_time, order_list[period].sent = placeorder(df['final_inv_pos'][period], policy, lead_time_dist, period)\n",
    "        df['final_net_inv'][period] = df['initial_net_inv'][period] - df['demand'][period]\n",
    "        if df['final_net_inv'][period] < 0:\n",
    "            df['lost_sales'][period] = abs(df['final_net_inv'][period])\n",
    "            df['final_net_inv'][period] = 0\n",
    "        else:\n",
    "            df['lost_sales'][period] = 0\n",
    "        df['avg_inv'][period] = 0\n",
    "        df['order'][period] = order_list[period].quantity\n",
    "        df['purchasing_cost'][period] = order_list[period].quantity * costs['per_unit_cost']\n",
    "        TOTAL_COST = TOTAL_COST + order_list[period].quantity * costs['per_unit_cost']\n",
    "        if order_list[period].sent:\n",
    "            df['fixed_ordering_cost'][period] = costs['ordering_cost']\n",
    "        else:\n",
    "            df['fixed_ordering_cost'][period] = 0\n",
    "        TOTAL_COST = TOTAL_COST + costs['ordering_cost']\n",
    "        df['lead_time'][period] = order_list[period].lead_time     \n",
    "\n",
    "    return df, TOTAL_COST\n",
    "\n",
    "def placeorder(final_inv_pos, policy, lead_time_dist, period):\n",
    "    \"\"\"Place the order acording the inventory policy: \n",
    "\n",
    "       Keywords arguments:\n",
    "       final_inv_pos    -- final inventory position of period\n",
    "       policy           -- chosen policy Reorder point (Qs, Ss) or Periodic Review (RS, Rss)\n",
    "       lead_time_dist   -- distribution of lead time\n",
    "       period           -- actual period\n",
    "    \"\"\"\n",
    "\n",
    "    lead_time = 5 #int(lead_time_dist())\n",
    "\n",
    "    # Qs = if we hit the reorder point s, order Q units+\n",
    "    if policy['method'] == 'Qs' and \\\n",
    "       final_inv_pos <= policy['arguments']['s']:\n",
    "        return policy['arguments']['Q'], lead_time, True\n",
    "    # Ss = if we hit the reorder point s, order S - final inventory pos\n",
    "    elif policy['method'] == 'Ss' and \\\n",
    "         final_inv_pos <= policy['arguments']['s']:\n",
    "        return policy['arguments']['S'] - final_inv_pos, lead_time, True\n",
    "    # RS = if we hit the review period and the reorder point S, order S - final inventory pos\n",
    "    elif policy['method'] == 'RS' and \\\n",
    "         period%policy['arguments']['R'] == 0 and \\\n",
    "         final_inv_pos <= policy['arguments']['S']:\n",
    "        return policy['arguments']['S'] - final_inv_pos, lead_time, True\n",
    "    # RSs = if we hit the review period and the reorder point s, order S - final inventory pos\n",
    "    elif policy['method'] == 'RSs' and \\\n",
    "         period%policy['arguments']['R'] == 0 and \\\n",
    "         final_inv_pos <= policy['arguments']['s']:\n",
    "        return policy['arguments']['S'] - final_inv_pos, lead_time, True\n",
    "    # If the conditions arent satisfied, do not order\n",
    "    else:\n",
    "        return 0, 0, False\n",
    "\n",
    "def pending_order(order_list, period):\n",
    "    \"\"\"Return the order that arrives in actual period\"\"\"\n",
    "    indices = [i for i, order in enumerate(order_list) if order.sent == True]\n",
    "    sum = 0\n",
    "    for i in indices:\n",
    "        if period - (i + order_list[i].lead_time +1) == 0: \n",
    "            sum += order_list[i].quantity\n",
    "\n",
    "    return sum\n",
    "\n",
    "\n",
    "class Order(object):\n",
    "    \"\"\"Object that stores basic data of an order\"\"\"\n",
    "    def __init__(self, quantity, lead_time, sent):\n",
    "        self.quantity = quantity\n",
    "        self.lead_time = lead_time\n",
    "        self.sent = sent # True if the order is already sent\n",
    "\n",
    "def make_plot(df, policy, period):\n",
    "    #Plot\n",
    "    plt.rcParams['figure.figsize'] = 15,4 #define the fig size\n",
    "    fig = plt.figure()\n",
    "    ax = fig.add_subplot(111)\n",
    "\n",
    "    y1 = df['final_inv_pos']\n",
    "    l1, = plt.plot(y1, 'k', linewidth=1.2, drawstyle='steps', label='Final Inv')\n",
    "\n",
    "    if policy['method'] == 'Qs':\n",
    "        title = 'Simulation Policy = (Q: {Q}, s: {s})'.format(**policy['arguments'])\n",
    "        y2 = policy['arguments']['s']*np.ones(period)\n",
    "        l2, = plt.plot(y2, 'r:', label='Reorder point')\n",
    "    elif policy['method'] == 'Ss':\n",
    "        #TODO\n",
    "        pass\n",
    "\n",
    "#     t = ax.set_title(title)\n",
    "\n",
    "#     ax.tick_params(axis='both', which='major', labelsize=8)\n",
    "#     plt.xticks(np.arange(period))\n",
    "#     plt.ylim(bottom=0)     \n",
    "#     plt.legend(loc='best', prop={'size':10})\n",
    "#     plt.xlabel(\"Periods\")\n",
    "#     plt.ylabel(\"Inventory Level\")\n",
    "#     plt.show()\n",
    "\n",
    "\n",
    "def simulate(parameters, demand, costs, product):\n",
    "    #parameters of simulation\n",
    "    Qs_policy   = {'method':'Qs', 'arguments': {'Q':parameters[0],'s':parameters[1]}}\n",
    "    # Qs_policy   = {'method':'Qs', 'arguments': {'Q':parameters[0]30,'s':5}}\n",
    "    demand_dist = make_distribution(np.random.poisson,5 ,2)\n",
    "    lead_time_dist = make_distribution(np.random.triangular,1,4,5)\n",
    "    period = 30\n",
    "    initial_inventory = parameters[2]\n",
    "    df , cost = make_data(period,initial_inventory,demand_dist,lead_time_dist, Qs_policy, demand, costs)\n",
    "    df.to_csv(f'temp/out_{product}.csv', index=False)\n",
    "    print(\"COST :\", cost)\n",
    "    # make_plot(df, Qs_policy, period)\n",
    "    \n",
    "    return cost\n",
    "    \n",
    "# def simulate():\n",
    "#     #parameters of simulation\n",
    "#     Qs_policy   = {'method':'Ss', 'arguments': {'S':30,'s':5}}\n",
    "#     demand_dist = make_distribution(np.random.poisson,5 ,2)\n",
    "#     lead_time_dist = make_distribution(np.random.triangular,1,4,5)\n",
    "#     period = 30\n",
    "#     initial_inventory = 30\n",
    "#     df = make_data(period,initial_inventory,demand_dist,lead_time_dist,Qs_policy)\n",
    "#     df.to_csv(\"out.csv\", index=False)\n",
    "\n",
    "#     make_plot(df, Qs_policy, period)\n"
   ]
  },
  {
   "cell_type": "code",
   "execution_count": null,
   "id": "957300a5",
   "metadata": {},
   "outputs": [],
   "source": [
    "# demand std dev\n",
    "# max\n",
    "# # what is serive level?\n",
    "# prob of the demand ke base per order"
   ]
  },
  {
   "cell_type": "code",
   "execution_count": null,
   "id": "200838bf",
   "metadata": {},
   "outputs": [],
   "source": [
    "# # iterative plan for all stores\n",
    "# -------------------------------\n",
    "# #service level\n",
    "# #loss sale mae demand meat kernay ke prob kitni hy\n",
    "# # 1- lead time \n"
   ]
  },
  {
   "cell_type": "code",
   "execution_count": null,
   "id": "c54356be",
   "metadata": {},
   "outputs": [],
   "source": [
    "data=[]\n",
    "data_dict={}\n",
    "for product in products:\n",
    "    data_dict={}\n",
    "    data_dict['product'] = product\n",
    "    df2 = df.copy()\n",
    "    df2 = df2[(df2['DESCRIPTION1']==product)]\n",
    "    print(df2.shape)\n",
    "    t =df2.groupby(['Date'])['Qty'].sum()\n",
    "    t =t.reset_index()\n",
    "    s = t\n",
    "    s = s.set_index('Date')\n",
    "    \n",
    "    temp = s.asfreq('D')\n",
    "    temp.head()\n",
    "    DF = pd.DataFrame()\n",
    "    DF['S'] = temp\n",
    "    DF['S'] = DF['S'].replace(np.nan, 0)\n",
    "    DF['S'] = DF['S'].replace(-1, 0)\n",
    "    \n",
    "    ordering_cost = 400\n",
    "    carring_cost = 3\n",
    "    per_unit_cost = 100\n",
    "    qty = DF.S.sum()\n",
    "    demand = DF.S.tolist()\n",
    "    print('qty', qty)\n",
    "    if qty<50:\n",
    "        continue\n",
    "    EOQ = math.sqrt((2 * qty * ordering_cost)/carring_cost)\n",
    "    ROP = DF.S.max() * 5\n",
    "    print(EOQ, ROP)\n",
    "    print('--'*100)\n",
    "    #periods = 365\n",
    "    parameters = [EOQ, ROP, int(112)]\n",
    "    data_dict['EOQ'] = EOQ\n",
    "    data_dict['ROP'] = ROP\n",
    "    costs = {'per_unit_cost': float(per_unit_cost), 'ordering_cost': float(ordering_cost),\n",
    "            'holding_cost': float(carring_cost)}\n",
    "    cost = simulate(parameters, demand, costs, product)\n",
    "    data_dict['cost'] = cost\n",
    "    data.append(data_dict)"
   ]
  },
  {
   "cell_type": "code",
   "execution_count": null,
   "id": "4017a2e4",
   "metadata": {},
   "outputs": [],
   "source": [
    "summary_df = pd.DataFrame(data)\n",
    "summary_df.sort_values(by=['product'], ascending=True, inplace=True)\n",
    "summary_df.head()"
   ]
  },
  {
   "cell_type": "code",
   "execution_count": null,
   "id": "ebc058f0",
   "metadata": {},
   "outputs": [],
   "source": []
  },
  {
   "cell_type": "code",
   "execution_count": null,
   "id": "49e30612",
   "metadata": {},
   "outputs": [],
   "source": [
    "print(summary_df.shape)\n",
    "summary_df.to_csv('summary.csv', index=False)"
   ]
  },
  {
   "cell_type": "code",
   "execution_count": null,
   "id": "14fcb7ef",
   "metadata": {},
   "outputs": [],
   "source": []
  },
  {
   "cell_type": "code",
   "execution_count": 7,
   "id": "5997f9fb",
   "metadata": {},
   "outputs": [
    {
     "data": {
      "application/vnd.jupyter.widget-view+json": {
       "model_id": "a816225bd13b44f48b0970a4e35aa46e",
       "version_major": 2,
       "version_minor": 0
      },
      "text/plain": [
       "interactive(children=(Dropdown(description='Product', options=('EARRING-1', 'EARRING-3', 'PLASTIC LOOP BAG', '…"
      ]
     },
     "metadata": {},
     "output_type": "display_data"
    },
    {
     "data": {
      "application/vnd.jupyter.widget-view+json": {
       "model_id": "8e1d129a4b134284a1311e6c56344df0",
       "version_major": 2,
       "version_minor": 0
      },
      "text/plain": [
       "FloatText(value=100.0, description='PerUnitCost:')"
      ]
     },
     "metadata": {},
     "output_type": "display_data"
    },
    {
     "data": {
      "application/vnd.jupyter.widget-view+json": {
       "model_id": "08398d854f824dbe9e5aac885558f77f",
       "version_major": 2,
       "version_minor": 0
      },
      "text/plain": [
       "FloatText(value=3.0, description='HoldingCost:')"
      ]
     },
     "metadata": {},
     "output_type": "display_data"
    },
    {
     "data": {
      "application/vnd.jupyter.widget-view+json": {
       "model_id": "c357a21da5c04aaaa173e10c7ac533c4",
       "version_major": 2,
       "version_minor": 0
      },
      "text/plain": [
       "FloatText(value=400.0, description='FixOrderCost:')"
      ]
     },
     "metadata": {},
     "output_type": "display_data"
    },
    {
     "data": {
      "application/vnd.jupyter.widget-view+json": {
       "model_id": "56f88e23060f4552abd2bb55355560cf",
       "version_major": 2,
       "version_minor": 0
      },
      "text/plain": [
       "FloatText(value=112.0, description='Opening Inv:')"
      ]
     },
     "metadata": {},
     "output_type": "display_data"
    },
    {
     "data": {
      "application/vnd.jupyter.widget-view+json": {
       "model_id": "86ae134d07bf48cc9687122147574465",
       "version_major": 2,
       "version_minor": 0
      },
      "text/plain": [
       "Button(description='Click me', style=ButtonStyle(), tooltip='Click me')"
      ]
     },
     "metadata": {},
     "output_type": "display_data"
    },
    {
     "name": "stdout",
     "output_type": "stream",
     "text": [
      "(125, 8)\n",
      "len s : 125\n",
      "qty 159.0\n",
      "205.91260281974002 25.0\n",
      "--------------------------------------------------------------------------------------------------------------------------------------------------------------------------------------------------------\n",
      "COST : 306284.99809043325\n",
      "(125, 8)\n",
      "len s : 125\n",
      "qty 159.0\n",
      "205.91260281974002 25.0\n",
      "--------------------------------------------------------------------------------------------------------------------------------------------------------------------------------------------------------\n",
      "COST : 306284.99809043325\n"
     ]
    }
   ],
   "source": [
    "from ipywidgets import interact, Dropdown, FloatText, Button\n",
    "\n",
    "\n",
    "productsW = Dropdown(options = products, description='Product')\n",
    "P=None\n",
    "\n",
    "def update_cityW_options(*args): # *args represent zero (case here) or more arguments.\n",
    "    print(productsW.value)\n",
    "    \n",
    "\n",
    "@interact(product = productsW)\n",
    "def print_product(product):\n",
    "    print(product)\n",
    "    \n",
    "per_unit_cost = FloatText(\n",
    " value=100.0,\n",
    " description='PerUnitCost:'\n",
    " )\n",
    "display(per_unit_cost)\n",
    "\n",
    "holding_cost = FloatText(\n",
    " value=3.0,\n",
    " description='HoldingCost:'\n",
    " )\n",
    "display(holding_cost)\n",
    "\n",
    "\n",
    "fix_order_cost = FloatText(\n",
    " value=400.0,\n",
    " description='FixOrderCost:'\n",
    " )\n",
    "display(fix_order_cost)\n",
    "\n",
    "\n",
    "opening_inventory = FloatText(\n",
    " value=112.0,\n",
    " description='Opening Inv:'\n",
    " )\n",
    "display(opening_inventory)\n",
    "\n",
    "\n",
    "\n",
    "button = Button(\n",
    "    description='Click me',\n",
    "    disabled=False,\n",
    "    button_style='', # 'success', 'info', 'warning', 'danger' or ''\n",
    "    tooltip='Click me',\n",
    "    #icon='check' # (FontAwesome names without the `fa-` prefix)\n",
    ")\n",
    "display(button)\n",
    "\n",
    "def on_button_clicked(b):\n",
    "#     print(productsW.value)\n",
    "    product_name = productsW.value\n",
    "    #product_name = 'PLASTIC LOOP BAG'\n",
    "#     print(per_unit_cost.value)\n",
    "#     print(holding_cost.value)\n",
    "#     print(fix_order_cost.value)\n",
    "    df2 = df.copy()\n",
    "    df2 = df2[(df2['DESCRIPTION1']==product_name)]\n",
    "    print(df2.shape)\n",
    "    t =df2.groupby(['Date'])['Qty'].sum()\n",
    "    t =t.reset_index()\n",
    "    s = t\n",
    "    s = s.set_index('Date')\n",
    "    print('len s :', len(s))\n",
    "    \n",
    "    temp = s.asfreq('D')\n",
    "    temp.head()\n",
    "    DF = pd.DataFrame()\n",
    "    DF['S'] = temp\n",
    "    DF['S'] = DF['S'].replace(np.nan, 0)\n",
    "    DF['S'] = DF['S'].replace(-1, 0)\n",
    "    DF.head()\n",
    "    \n",
    "    ordering_cost = fix_order_cost.value\n",
    "    carring_cost = holding_cost.value\n",
    "    qty = DF.S.sum()\n",
    "    demand = DF.S.tolist()\n",
    "    print('qty', qty)\n",
    "    EOQ = math.sqrt((2 * qty * ordering_cost)/carring_cost)\n",
    "    # lead time in distribution\n",
    "    # demand in distribution\n",
    "    # safety stock\n",
    "    ROP = DF.S.max() * 5\n",
    "    EOQ = 35\n",
    "    ROP = 5\n",
    "    print(EOQ, ROP)\n",
    "    print('--'*100)\n",
    "    #periods = 365\n",
    "    parameters = [EOQ, ROP, int(opening_inventory.value)]\n",
    "    costs = {'per_unit_cost': float(per_unit_cost.value), 'ordering_cost': float(ordering_cost),\n",
    "            'holding_cost': float(holding_cost.value)}\n",
    "    simulate(parameters, demand, costs, product_name)\n",
    "button.on_click(on_button_clicked)"
   ]
  },
  {
   "cell_type": "code",
   "execution_count": null,
   "id": "462cfdc3",
   "metadata": {},
   "outputs": [],
   "source": [
    "270133.1057632485+11200"
   ]
  },
  {
   "cell_type": "code",
   "execution_count": null,
   "id": "74e28941",
   "metadata": {},
   "outputs": [],
   "source": [
    "rslt = pd.read_csv('out_PLASTIC LOOP BAG.csv')\n",
    "rslt = rslt[['initial_net_inv','demand','final_net_inv','lost_sales','order','lead_time','purchasing_cost','fixed_ordering_cost','holding_cost']]\n",
    "rslt.head(60)"
   ]
  },
  {
   "cell_type": "code",
   "execution_count": null,
   "id": "fd584fb1",
   "metadata": {},
   "outputs": [],
   "source": [
    "# execution_path = []\n",
    "# def callbackF(x):\n",
    "#     print('{0}\\t{1}\\t{2} '.format(x[0], x[1], simulate(x)))\n",
    "#     execution_path.append([x[0], x[1]])\n",
    "        \n",
    "m = \"Nelder-Mead\"\n",
    "res = minimize(simulate, [5,30], method=m, callback=callbackF, options={\"maxiter\": 50})\n",
    "print([m, list(res.x), res.fun])"
   ]
  },
  {
   "cell_type": "code",
   "execution_count": null,
   "id": "4cad473c",
   "metadata": {},
   "outputs": [],
   "source": [
    "np.std(list(range(1,30)))\n",
    "#d = make_distribution(np.random.normal(5, 2))\n"
   ]
  },
  {
   "cell_type": "code",
   "execution_count": null,
   "id": "074ffcc3",
   "metadata": {},
   "outputs": [],
   "source": [
    "d=pd.read_csv('demand.csv')\n",
    "d.head()\n",
    "d.S[:10]"
   ]
  },
  {
   "cell_type": "code",
   "execution_count": null,
   "id": "5cf34ed7",
   "metadata": {},
   "outputs": [],
   "source": [
    "demand = d.S.tolist()\n",
    "demand[:10]"
   ]
  },
  {
   "cell_type": "code",
   "execution_count": null,
   "id": "ed0d50c3",
   "metadata": {},
   "outputs": [],
   "source": [
    "parameters = [52, 20]\n",
    "simulate(parameters, demand)"
   ]
  },
  {
   "cell_type": "code",
   "execution_count": null,
   "id": "7b172a4a",
   "metadata": {},
   "outputs": [],
   "source": []
  },
  {
   "cell_type": "code",
   "execution_count": null,
   "id": "b111d2cb",
   "metadata": {},
   "outputs": [],
   "source": []
  },
  {
   "cell_type": "code",
   "execution_count": null,
   "id": "255ce514",
   "metadata": {},
   "outputs": [],
   "source": [
    "rslt.head(60)"
   ]
  },
  {
   "cell_type": "code",
   "execution_count": null,
   "id": "7136692f",
   "metadata": {},
   "outputs": [],
   "source": []
  }
 ],
 "metadata": {
  "kernelspec": {
   "display_name": "Python 3 (ipykernel)",
   "language": "python",
   "name": "python3"
  },
  "language_info": {
   "codemirror_mode": {
    "name": "ipython",
    "version": 3
   },
   "file_extension": ".py",
   "mimetype": "text/x-python",
   "name": "python",
   "nbconvert_exporter": "python",
   "pygments_lexer": "ipython3",
   "version": "3.8.10"
  }
 },
 "nbformat": 4,
 "nbformat_minor": 5
}
