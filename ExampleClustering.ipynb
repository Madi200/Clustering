{
 "cells": [
  {
   "cell_type": "code",
   "execution_count": 1,
   "id": "d12c79e1",
   "metadata": {},
   "outputs": [],
   "source": [
    "import pandas as pd\n",
    "import matplotlib.pyplot as plt\n",
    "import seaborn as sns\n",
    "import numpy as np\n",
    "import json\n",
    "import traceback\n",
    "import logging\n",
    "from kneed import KneeLocator, DataGenerator as dg\n",
    "from kmeans import Kmeans\n",
    "from hierarchial import Hierarchical"
   ]
  },
  {
   "cell_type": "code",
   "execution_count": 2,
   "id": "c556ed62",
   "metadata": {},
   "outputs": [],
   "source": [
    "class DataDf:\n",
    "    \"\"\"Data class.\n",
    "    The purpose of this class is to use it as a component of any clustering class, instead of \n",
    "    reloading data  as a seperate dataframe into the memory.\n",
    "    \n",
    "    Parameters\n",
    "    ----------\n",
    "    df : dataframe\n",
    "        The dataframe contains the data with any type of attributes.\n",
    "           \n",
    "    \"\"\"\n",
    "\n",
    "    def __init__(self):\n",
    "        \"\"\"Attributes are defined here.\"\"\"\n",
    "        self.df = None\n",
    "        \n",
    "    def read_data(self, file_path):\n",
    "        result ={}\n",
    "        try:\n",
    "            self.df = pd.read_csv(file_path)\n",
    "            result['msg'] = 'File Read!'\n",
    "            result['flag'] = True\n",
    "        except Exception as e:\n",
    "            result['msg'] =  f'{e.__class__} occurred!'\n",
    "            result['flag'] = False\n",
    "        return result\n",
    "    "
   ]
  },
  {
   "cell_type": "code",
   "execution_count": 3,
   "id": "aaa000ce",
   "metadata": {},
   "outputs": [],
   "source": [
    "FILE_PATH = 'data/Iris_2.csv'\n",
    "dataObj = DataDf()\n",
    "rslt = dataObj.read_data(FILE_PATH)"
   ]
  },
  {
   "cell_type": "markdown",
   "id": "6d4ff8d6",
   "metadata": {},
   "source": [
    "## K-means"
   ]
  },
  {
   "cell_type": "code",
   "execution_count": 4,
   "id": "88f6c263",
   "metadata": {},
   "outputs": [
    {
     "name": "stdout",
     "output_type": "stream",
     "text": [
      "['SepalLengthCm', 'SepalWidthCm', 'PetalLengthCm', 'PetalWidthCm']\n",
      "scaling_type: z-scaling | max_iteratoins: None | k: None\n",
      "Scaling: \n",
      " Z-scaling\n",
      "In find_the_best_k() \n",
      "\n"
     ]
    },
    {
     "data": {
      "text/plain": [
       "{'data': {'per_cluster_count': {0: 28, 1: 29, 2: 23, 3: 19, 4: 47},\n",
       "  'cluster_statistics': {'total_cases': 150,\n",
       "   'valid_cases': 146,\n",
       "   'missing_cases': 4,\n",
       "   'duplicate_cases': 0},\n",
       "  'cluster_list': [0, 3, 1, 4, 2],\n",
       "  'elbow_chart': {'x': [2, 3, 4, 5, 6, 7, 8, 9, 10],\n",
       "   'y': [1.0721784405282995,\n",
       "    0.8671812194485825,\n",
       "    0.7828698191467496,\n",
       "    0.7001433309525229,\n",
       "    0.6597342186601428,\n",
       "    0.6242012118872701,\n",
       "    0.5867341842224998,\n",
       "    0.5447920011895403,\n",
       "    0.5063818211686413],\n",
       "   'best_k': 5},\n",
       "  'spider': [[0.9597272902954472,\n",
       "    5.000000000000002,\n",
       "    0.11184773310521812,\n",
       "    0.26161741710436626],\n",
       "   [5.0, 3.0532084950902014, 5.000000000000001, 4.999999999999999],\n",
       "   [1.9002840427482628, 0.0, 2.9570424368654002, 2.752585957933186],\n",
       "   [0.0, 2.56186824677588, 0.0, 0.0],\n",
       "   [3.1837944362895723,\n",
       "    1.8345779907002946,\n",
       "    3.891323735507709,\n",
       "    3.703917130953873]],\n",
       "  'spider_columns': ['SepalLengthCm',\n",
       "   'SepalWidthCm',\n",
       "   'PetalLengthCm',\n",
       "   'PetalWidthCm']},\n",
       " 'success': True,\n",
       " 'msg': 'CLUSTERS CREATED'}"
      ]
     },
     "execution_count": 4,
     "metadata": {},
     "output_type": "execute_result"
    }
   ],
   "source": [
    "metrics_variables = dataObj.df.columns.to_list()[1:5]\n",
    "print(metrics_variables)\n",
    "cluster_by = dataObj.df.columns.to_list()[0]\n",
    "data_scaling = 'z-scaling'\n",
    "no_of_clusters = None\n",
    "max_iterations = 50\n",
    "metric = None\n",
    "\n",
    "result = None\n",
    "kmeansObj = None\n",
    "if rslt['flag']:\n",
    "    kmeansObj = Kmeans(dataObj,cluster_by,metrics_variables)\n",
    "    result = kmeansObj.perform_clustering(data_scaling,k=no_of_clusters)\n",
    "result"
   ]
  },
  {
   "cell_type": "code",
   "execution_count": 5,
   "id": "9f5b11e2",
   "metadata": {},
   "outputs": [
    {
     "data": {
      "text/plain": [
       "5"
      ]
     },
     "execution_count": 5,
     "metadata": {},
     "output_type": "execute_result"
    }
   ],
   "source": [
    "kl = KneeLocator(result['data']['elbow_chart']['x'], result['data']['elbow_chart']['y'], curve=\"convex\", direction=\"decreasing\")\n",
    "kl.knee"
   ]
  },
  {
   "cell_type": "code",
   "execution_count": 6,
   "id": "546f106d",
   "metadata": {},
   "outputs": [
    {
     "data": {
      "image/png": "[encoded data removed]",
      "text/plain": [
       "<Figure size 432x432 with 1 Axes>"
      ]
     },
     "metadata": {
      "needs_background": "light"
     },
     "output_type": "display_data"
    }
   ],
   "source": [
    "kl.plot_knee()"
   ]
  },
  {
   "cell_type": "markdown",
   "id": "28d2c3c0",
   "metadata": {},
   "source": [
    "## Hierarchial Clustering"
   ]
  },
  {
   "cell_type": "code",
   "execution_count": 11,
   "id": "a4d3db88",
   "metadata": {},
   "outputs": [],
   "source": [
    "FILE_PATH = 'data/Iris_2.csv'\n",
    "dataObj2 = DataDf()\n",
    "rslt = dataObj2.read_data(FILE_PATH)"
   ]
  },
  {
   "cell_type": "code",
   "execution_count": 13,
   "id": "77494c7e",
   "metadata": {},
   "outputs": [
    {
     "name": "stdout",
     "output_type": "stream",
     "text": [
      "['SepalLengthCm', 'SepalWidthCm', 'PetalLengthCm', 'PetalWidthCm']\n",
      "None\n",
      "Scaling: \n",
      " Z-scaling\n",
      "In find_the_best_k() \n",
      "\n"
     ]
    },
    {
     "data": {
      "image/png": "[encoded data removed]",
      "text/plain": [
       "<Figure size 432x288 with 1 Axes>"
      ]
     },
     "metadata": {
      "needs_background": "light"
     },
     "output_type": "display_data"
    }
   ],
   "source": [
    "metrics_variables = dataObj2.df.columns.to_list()[1:5]\n",
    "print(metrics_variables)\n",
    "cluster_by = dataObj2.df.columns.to_list()[0]\n",
    "data_scaling = 'z-scaling'\n",
    "no_of_clusters = 3\n",
    "max_iterations = 5\n",
    "metric = None\n",
    "categorical_colms = None\n",
    "print(categorical_colms)\n",
    "\n",
    "# ------------------------------------------------------------\n",
    "# Hierarchical Obj initializatoin\n",
    "hClusteringObj = Hierarchical(dataObj2,cluster_by, metrics_variables, categorical_colms)\n",
    "result = hClusteringObj.perform_clustering(data_scaling)"
   ]
  },
  {
   "cell_type": "code",
   "execution_count": 10,
   "id": "2938347c",
   "metadata": {},
   "outputs": [
    {
     "data": {
      "text/html": [
       "<div>\n",
       "<style scoped>\n",
       "    .dataframe tbody tr th:only-of-type {\n",
       "        vertical-align: middle;\n",
       "    }\n",
       "\n",
       "    .dataframe tbody tr th {\n",
       "        vertical-align: top;\n",
       "    }\n",
       "\n",
       "    .dataframe thead th {\n",
       "        text-align: right;\n",
       "    }\n",
       "</style>\n",
       "<table border=\"1\" class=\"dataframe\">\n",
       "  <thead>\n",
       "    <tr style=\"text-align: right;\">\n",
       "      <th></th>\n",
       "      <th>Id</th>\n",
       "      <th>SepalLengthCm</th>\n",
       "      <th>SepalWidthCm</th>\n",
       "      <th>PetalLengthCm</th>\n",
       "      <th>PetalWidthCm</th>\n",
       "      <th>Species</th>\n",
       "      <th>Cluster_Id</th>\n",
       "    </tr>\n",
       "  </thead>\n",
       "  <tbody>\n",
       "    <tr>\n",
       "      <th>0</th>\n",
       "      <td>1</td>\n",
       "      <td>5.1</td>\n",
       "      <td>3.5</td>\n",
       "      <td>1.4</td>\n",
       "      <td>0.2</td>\n",
       "      <td>Iris-setosa</td>\n",
       "      <td>0</td>\n",
       "    </tr>\n",
       "    <tr>\n",
       "      <th>1</th>\n",
       "      <td>2</td>\n",
       "      <td>4.9</td>\n",
       "      <td>3.0</td>\n",
       "      <td>1.4</td>\n",
       "      <td>0.2</td>\n",
       "      <td>Iris-setosa</td>\n",
       "      <td>3</td>\n",
       "    </tr>\n",
       "    <tr>\n",
       "      <th>2</th>\n",
       "      <td>3</td>\n",
       "      <td>4.7</td>\n",
       "      <td>3.2</td>\n",
       "      <td>1.3</td>\n",
       "      <td>0.2</td>\n",
       "      <td>Iris-setosa</td>\n",
       "      <td>3</td>\n",
       "    </tr>\n",
       "    <tr>\n",
       "      <th>3</th>\n",
       "      <td>4</td>\n",
       "      <td>4.6</td>\n",
       "      <td>3.1</td>\n",
       "      <td>1.5</td>\n",
       "      <td>0.2</td>\n",
       "      <td>Iris-setosa</td>\n",
       "      <td>3</td>\n",
       "    </tr>\n",
       "    <tr>\n",
       "      <th>4</th>\n",
       "      <td>5</td>\n",
       "      <td>5.0</td>\n",
       "      <td>3.6</td>\n",
       "      <td>1.4</td>\n",
       "      <td>0.2</td>\n",
       "      <td>Iris-setosa</td>\n",
       "      <td>0</td>\n",
       "    </tr>\n",
       "    <tr>\n",
       "      <th>...</th>\n",
       "      <td>...</td>\n",
       "      <td>...</td>\n",
       "      <td>...</td>\n",
       "      <td>...</td>\n",
       "      <td>...</td>\n",
       "      <td>...</td>\n",
       "      <td>...</td>\n",
       "    </tr>\n",
       "    <tr>\n",
       "      <th>145</th>\n",
       "      <td>146</td>\n",
       "      <td>6.7</td>\n",
       "      <td>3.0</td>\n",
       "      <td>5.2</td>\n",
       "      <td>2.3</td>\n",
       "      <td>Iris-virginica</td>\n",
       "      <td>1</td>\n",
       "    </tr>\n",
       "    <tr>\n",
       "      <th>146</th>\n",
       "      <td>147</td>\n",
       "      <td>6.3</td>\n",
       "      <td>2.5</td>\n",
       "      <td>5.0</td>\n",
       "      <td>1.9</td>\n",
       "      <td>Iris-virginica</td>\n",
       "      <td>4</td>\n",
       "    </tr>\n",
       "    <tr>\n",
       "      <th>147</th>\n",
       "      <td>148</td>\n",
       "      <td>6.5</td>\n",
       "      <td>3.0</td>\n",
       "      <td>5.2</td>\n",
       "      <td>2.0</td>\n",
       "      <td>Iris-virginica</td>\n",
       "      <td>4</td>\n",
       "    </tr>\n",
       "    <tr>\n",
       "      <th>148</th>\n",
       "      <td>149</td>\n",
       "      <td>6.2</td>\n",
       "      <td>3.4</td>\n",
       "      <td>5.4</td>\n",
       "      <td>2.3</td>\n",
       "      <td>Iris-virginica</td>\n",
       "      <td>1</td>\n",
       "    </tr>\n",
       "    <tr>\n",
       "      <th>149</th>\n",
       "      <td>150</td>\n",
       "      <td>5.9</td>\n",
       "      <td>3.0</td>\n",
       "      <td>5.1</td>\n",
       "      <td>1.8</td>\n",
       "      <td>Iris-virginica</td>\n",
       "      <td>4</td>\n",
       "    </tr>\n",
       "  </tbody>\n",
       "</table>\n",
       "<p>146 rows × 7 columns</p>\n",
       "</div>"
      ],
      "text/plain": [
       "      Id  SepalLengthCm  SepalWidthCm  PetalLengthCm  PetalWidthCm  \\\n",
       "0      1            5.1           3.5            1.4           0.2   \n",
       "1      2            4.9           3.0            1.4           0.2   \n",
       "2      3            4.7           3.2            1.3           0.2   \n",
       "3      4            4.6           3.1            1.5           0.2   \n",
       "4      5            5.0           3.6            1.4           0.2   \n",
       "..   ...            ...           ...            ...           ...   \n",
       "145  146            6.7           3.0            5.2           2.3   \n",
       "146  147            6.3           2.5            5.0           1.9   \n",
       "147  148            6.5           3.0            5.2           2.0   \n",
       "148  149            6.2           3.4            5.4           2.3   \n",
       "149  150            5.9           3.0            5.1           1.8   \n",
       "\n",
       "            Species  Cluster_Id  \n",
       "0       Iris-setosa           0  \n",
       "1       Iris-setosa           3  \n",
       "2       Iris-setosa           3  \n",
       "3       Iris-setosa           3  \n",
       "4       Iris-setosa           0  \n",
       "..              ...         ...  \n",
       "145  Iris-virginica           1  \n",
       "146  Iris-virginica           4  \n",
       "147  Iris-virginica           4  \n",
       "148  Iris-virginica           1  \n",
       "149  Iris-virginica           4  \n",
       "\n",
       "[146 rows x 7 columns]"
      ]
     },
     "execution_count": 10,
     "metadata": {},
     "output_type": "execute_result"
    }
   ],
   "source": [
    "dataObj.df"
   ]
  },
  {
   "cell_type": "code",
   "execution_count": null,
   "id": "cc000a32",
   "metadata": {},
   "outputs": [],
   "source": [
    "result"
   ]
  }
 ],
 "metadata": {
  "kernelspec": {
   "display_name": "Python 3 (ipykernel)",
   "language": "python",
   "name": "python3"
  },
  "language_info": {
   "codemirror_mode": {
    "name": "ipython",
    "version": 3
   },
   "file_extension": ".py",
   "mimetype": "text/x-python",
   "name": "python",
   "nbconvert_exporter": "python",
   "pygments_lexer": "ipython3",
   "version": "3.8.10"
  }
 },
 "nbformat": 4,
 "nbformat_minor": 5
}
