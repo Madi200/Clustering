{
 "cells": [
  {
   "cell_type": "code",
   "execution_count": 1,
   "id": "d12c79e1",
   "metadata": {},
   "outputs": [],
   "source": [
    "import pandas as pd\n",
    "import matplotlib.pyplot as plt\n",
    "import seaborn as sns\n",
    "import numpy as np\n",
    "import json\n",
    "import traceback\n",
    "import logging\n",
    "from kneed import KneeLocator, DataGenerator as dg\n",
    "from kmeans import Kmeans\n",
    "from hierarchial import Hierarchical"
   ]
  },
  {
   "cell_type": "code",
   "execution_count": 2,
   "id": "c556ed62",
   "metadata": {},
   "outputs": [],
   "source": [
    "class DataDf:\n",
    "    \"\"\"Data class.\n",
    "    The purpose of this class is to use it as a component of any clustering class, instead of \n",
    "    reloading data  as a seperate dataframe into the memory.\n",
    "    \n",
    "    Parameters\n",
    "    ----------\n",
    "    df : dataframe\n",
    "        The dataframe contains the data with any type of attributes.\n",
    "           \n",
    "    \"\"\"\n",
    "\n",
    "    def __init__(self):\n",
    "        \"\"\"Attributes are defined here.\"\"\"\n",
    "        self.df = None\n",
    "        \n",
    "    def read_data(self, file_path):\n",
    "        result ={}\n",
    "        try:\n",
    "            self.df = pd.read_csv(file_path)\n",
    "            result['msg'] = 'File Read!'\n",
    "            result['flag'] = True\n",
    "        except Exception as e:\n",
    "            result['msg'] =  f'{e.__class__} occurred!'\n",
    "            result['flag'] = False\n",
    "        return result\n",
    "    "
   ]
  },
  {
   "cell_type": "code",
   "execution_count": 3,
   "id": "cf1b3609",
   "metadata": {},
   "outputs": [
    {
     "data": {
      "application/vnd.jupyter.widget-view+json": {
       "model_id": "44b95e6af4f9448c9fc693679e6465e5",
       "version_major": 2,
       "version_minor": 0
      },
      "text/plain": [
       "interactive(children=(Dropdown(description='Clustering', options=('Kmeans', 'Hierarchial'), value='Kmeans'), O…"
      ]
     },
     "metadata": {},
     "output_type": "display_data"
    },
    {
     "data": {
      "application/vnd.jupyter.widget-view+json": {
       "model_id": "89e84f4d2352454aa286a3db7723c9e7",
       "version_major": 2,
       "version_minor": 0
      },
      "text/plain": [
       "FloatText(value=4.0, description='No of K:')"
      ]
     },
     "metadata": {},
     "output_type": "display_data"
    },
    {
     "data": {
      "application/vnd.jupyter.widget-view+json": {
       "model_id": "ebd005ea5b084ed59e59602d4c342feb",
       "version_major": 2,
       "version_minor": 0
      },
      "text/plain": [
       "Checkbox(value=False, description='Set Automatically')"
      ]
     },
     "metadata": {},
     "output_type": "display_data"
    },
    {
     "data": {
      "application/vnd.jupyter.widget-view+json": {
       "model_id": "d09f9edb7d6b4aef8fce4a8a05ec3838",
       "version_major": 2,
       "version_minor": 0
      },
      "text/plain": [
       "interactive(children=(Dropdown(description='Scaling', options=('z-scaling', 'min_max', 'absolute'), value='z-s…"
      ]
     },
     "metadata": {},
     "output_type": "display_data"
    },
    {
     "data": {
      "application/vnd.jupyter.widget-view+json": {
       "model_id": "d07dfdf1381c446088d1bd58d3b356ba",
       "version_major": 2,
       "version_minor": 0
      },
      "text/plain": [
       "Button(description='Run Clustering', style=ButtonStyle(), tooltip='Run Clustering')"
      ]
     },
     "metadata": {},
     "output_type": "display_data"
    },
    {
     "name": "stdout",
     "output_type": "stream",
     "text": [
      "scaling_type: z-scaling | max_iteratoins: None | k: None\n",
      "Scaling: \n",
      " Z-scaling\n",
      "In find_the_best_k() \n",
      "\n"
     ]
    },
    {
     "data": {
      "image/png": "[encoded data removed]",
      "text/plain": [
       "<Figure size 432x432 with 1 Axes>"
      ]
     },
     "metadata": {
      "needs_background": "light"
     },
     "output_type": "display_data"
    }
   ],
   "source": [
    "from ipywidgets import interact, Dropdown, FloatText, Button, Checkbox, VBox\n",
    "\n",
    "\n",
    "clutering_type = Dropdown(options = ['Kmeans','Hierarchial'], description='Clustering')\n",
    "\n",
    "data_scaling_dd = Dropdown(options = ['z-scaling','min_max','absolute'], description='Scaling')\n",
    "P=None\n",
    "\n",
    "def update_cityW_options(*args): # *args represent zero (case here) or more arguments.\n",
    "    print(productsW.value)\n",
    "\n",
    "\n",
    "@interact(product = clutering_type)\n",
    "def print_clustering_type(product):\n",
    "    print(product)\n",
    "    \n",
    "no_of_k = FloatText(\n",
    " value=4.0,\n",
    " description='No of K:'\n",
    " )\n",
    "display(no_of_k)\n",
    "\n",
    "box = Checkbox(False, description='Set Automatically')\n",
    "display(box)\n",
    "\n",
    "def changed(cb):\n",
    "    if box.value==True:\n",
    "        no_of_k.disabled=True\n",
    "        #no_of_k.layout.visibility = \"hidden\"\n",
    "    else:\n",
    "        no_of_k.disabled=False\n",
    "        #no_of_k.layout.visibility = \"visible\"\n",
    "\n",
    "box.observe(changed)\n",
    "\n",
    "@interact(scaling = data_scaling_dd)\n",
    "def print_scaling(scaling):\n",
    "    print(scaling)\n",
    "\n",
    "\n",
    "button = Button(\n",
    "    description='Run Clustering',\n",
    "    disabled=False,\n",
    "    button_style='', # 'success', 'info', 'warning', 'danger' or ''\n",
    "    tooltip='Run Clustering',\n",
    "    #icon='check' # (FontAwesome names without the `fa-` prefix)\n",
    ")\n",
    "display(button)\n",
    "\n",
    "def on_button_clicked(b):\n",
    "    FILE_PATH = 'data/Iris_2.csv'\n",
    "    dataObj = DataDf()\n",
    "    rslt = dataObj.read_data(FILE_PATH)\n",
    "    \n",
    "    if clutering_type.value == 'Kmeans':\n",
    "        metrics_variables = dataObj.df.columns.to_list()[1:5]\n",
    "        #print(metrics_variables)\n",
    "        cluster_by = dataObj.df.columns.to_list()[0]\n",
    "        data_scaling = data_scaling_dd.value\n",
    "        if no_of_k.disabled:\n",
    "            no_of_clusters = None\n",
    "        else:\n",
    "            no_of_clusters = int(no_of_k.value)\n",
    "            \n",
    "        max_iterations = 50\n",
    "        metric = None\n",
    "\n",
    "        result = None\n",
    "        kmeansObj = None\n",
    "        if rslt['flag']:\n",
    "            kmeansObj = Kmeans(dataObj,cluster_by,metrics_variables)\n",
    "            result = kmeansObj.perform_clustering(data_scaling,k=no_of_clusters)\n",
    "\n",
    "        kl = KneeLocator(result['data']['elbow_chart']['x'], result['data']['elbow_chart']['y'], curve=\"convex\", direction=\"decreasing\")\n",
    "        kl.plot_knee()\n",
    "        result\n",
    "button.on_click(on_button_clicked)"
   ]
  },
  {
   "cell_type": "code",
   "execution_count": null,
   "id": "aaa000ce",
   "metadata": {},
   "outputs": [],
   "source": [
    "FILE_PATH = 'data/Iris_2.csv'\n",
    "dataObj = DataDf()\n",
    "rslt = dataObj.read_data(FILE_PATH)"
   ]
  },
  {
   "cell_type": "markdown",
   "id": "6d4ff8d6",
   "metadata": {},
   "source": [
    "## K-means"
   ]
  },
  {
   "cell_type": "code",
   "execution_count": null,
   "id": "88f6c263",
   "metadata": {},
   "outputs": [],
   "source": [
    "metrics_variables = dataObj.df.columns.to_list()[1:5]\n",
    "print(metrics_variables)\n",
    "cluster_by = dataObj.df.columns.to_list()[0]\n",
    "data_scaling = 'z-scaling'\n",
    "no_of_clusters = None\n",
    "max_iterations = 50\n",
    "metric = None\n",
    "\n",
    "result = None\n",
    "kmeansObj = None\n",
    "if rslt['flag']:\n",
    "    kmeansObj = Kmeans(dataObj,cluster_by,metrics_variables)\n",
    "    result = kmeansObj.perform_clustering(data_scaling,k=no_of_clusters)\n",
    "result"
   ]
  },
  {
   "cell_type": "code",
   "execution_count": null,
   "id": "9f5b11e2",
   "metadata": {},
   "outputs": [],
   "source": [
    "kl = KneeLocator(result['data']['elbow_chart']['x'], result['data']['elbow_chart']['y'], curve=\"convex\", direction=\"decreasing\")\n",
    "kl.knee"
   ]
  },
  {
   "cell_type": "code",
   "execution_count": null,
   "id": "546f106d",
   "metadata": {},
   "outputs": [],
   "source": [
    "kl.plot_knee()"
   ]
  },
  {
   "cell_type": "markdown",
   "id": "28d2c3c0",
   "metadata": {},
   "source": [
    "## Hierarchial Clustering"
   ]
  },
  {
   "cell_type": "code",
   "execution_count": null,
   "id": "a4d3db88",
   "metadata": {},
   "outputs": [],
   "source": [
    "FILE_PATH = 'data/Iris_2.csv'\n",
    "dataObj2 = DataDf()\n",
    "rslt = dataObj2.read_data(FILE_PATH)"
   ]
  },
  {
   "cell_type": "code",
   "execution_count": null,
   "id": "77494c7e",
   "metadata": {},
   "outputs": [],
   "source": [
    "metrics_variables = dataObj2.df.columns.to_list()[1:5]\n",
    "print(metrics_variables)\n",
    "cluster_by = dataObj2.df.columns.to_list()[0]\n",
    "data_scaling = 'z-scaling'\n",
    "no_of_clusters = 3\n",
    "max_iterations = 5\n",
    "metric = None\n",
    "categorical_colms = None\n",
    "print(categorical_colms)\n",
    "\n",
    "# ------------------------------------------------------------\n",
    "# Hierarchical Obj initializatoin\n",
    "hClusteringObj = Hierarchical(dataObj2,cluster_by, metrics_variables, categorical_colms)\n",
    "result = hClusteringObj.perform_clustering(data_scaling)"
   ]
  },
  {
   "cell_type": "code",
   "execution_count": null,
   "id": "2938347c",
   "metadata": {},
   "outputs": [],
   "source": [
    "dataObj.df"
   ]
  },
  {
   "cell_type": "code",
   "execution_count": null,
   "id": "cc000a32",
   "metadata": {},
   "outputs": [],
   "source": [
    "result"
   ]
  }
 ],
 "metadata": {
  "kernelspec": {
   "display_name": "Python 3 (ipykernel)",
   "language": "python",
   "name": "python3"
  },
  "language_info": {
   "codemirror_mode": {
    "name": "ipython",
    "version": 3
   },
   "file_extension": ".py",
   "mimetype": "text/x-python",
   "name": "python",
   "nbconvert_exporter": "python",
   "pygments_lexer": "ipython3",
   "version": "3.8.10"
  }
 },
 "nbformat": 4,
 "nbformat_minor": 5
}
